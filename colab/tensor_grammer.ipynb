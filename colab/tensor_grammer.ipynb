{
  "nbformat": 4,
  "nbformat_minor": 0,
  "metadata": {
    "colab": {
      "provenance": [],
      "include_colab_link": true
    },
    "kernelspec": {
      "name": "python3",
      "display_name": "Python 3"
    },
    "language_info": {
      "name": "python"
    },
    "accelerator": "TPU"
  },
  "cells": [
    {
      "cell_type": "markdown",
      "metadata": {
        "id": "view-in-github",
        "colab_type": "text"
      },
      "source": [
        "<a href=\"https://colab.research.google.com/github/jaehyeon26/tensorflow2/blob/main/colab/tensor_grammer.ipynb\" target=\"_parent\"><img src=\"https://colab.research.google.com/assets/colab-badge.svg\" alt=\"Open In Colab\"/></a>"
      ]
    },
    {
      "cell_type": "markdown",
      "source": [],
      "metadata": {
        "id": "CRM-lyRjbpUB"
      }
    },
    {
      "cell_type": "code",
      "source": [],
      "metadata": {
        "id": "6JHVzFOEZZmj"
      },
      "execution_count": null,
      "outputs": []
    },
    {
      "cell_type": "markdown",
      "source": [],
      "metadata": {
        "id": "UQrkjsjJZdv6"
      }
    },
    {
      "cell_type": "code",
      "source": [],
      "metadata": {
        "id": "wmJyI-AZa_k5"
      },
      "execution_count": null,
      "outputs": []
    },
    {
      "cell_type": "markdown",
      "source": [],
      "metadata": {
        "id": "c12KMKaobAWR"
      }
    },
    {
      "cell_type": "code",
      "source": [],
      "metadata": {
        "id": "agCHquBTbAhZ"
      },
      "execution_count": null,
      "outputs": []
    },
    {
      "cell_type": "markdown",
      "source": [],
      "metadata": {
        "id": "RdZiY00GbAoh"
      }
    },
    {
      "cell_type": "code",
      "source": [],
      "metadata": {
        "id": "CwmSKfnNbAvK"
      },
      "execution_count": null,
      "outputs": []
    },
    {
      "cell_type": "markdown",
      "source": [],
      "metadata": {
        "id": "wQtt822DbA1B"
      }
    },
    {
      "cell_type": "code",
      "source": [],
      "metadata": {
        "id": "-N8sMfi-bA8x"
      },
      "execution_count": null,
      "outputs": []
    }
  ]
}