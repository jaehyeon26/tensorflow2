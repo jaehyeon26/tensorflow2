{
  "nbformat": 4,
  "nbformat_minor": 0,
  "metadata": {
    "colab": {
      "provenance": [],
      "include_colab_link": true
    },
    "kernelspec": {
      "name": "python3",
      "display_name": "Python 3"
    },
    "language_info": {
      "name": "python"
    },
    "accelerator": "TPU"
  },
  "cells": [
    {
      "cell_type": "markdown",
      "metadata": {
        "id": "view-in-github",
        "colab_type": "text"
      },
      "source": [
        "<a href=\"https://colab.research.google.com/github/jaehyeon26/tensorflow2/blob/main/colab/tensor_grammer.ipynb\" target=\"_parent\"><img src=\"https://colab.research.google.com/assets/colab-badge.svg\" alt=\"Open In Colab\"/></a>"
      ]
    },
    {
      "cell_type": "markdown",
      "source": [
        "Tensorflow"
      ],
      "metadata": {
        "id": "CRM-lyRjbpUB"
      }
    },
    {
      "cell_type": "code",
      "source": [
        "import numpy as np\n",
        "import tensorflow as tf"
      ],
      "metadata": {
        "id": "6JHVzFOEZZmj"
      },
      "execution_count": 2,
      "outputs": []
    },
    {
      "cell_type": "markdown",
      "source": [
        "1D Tensor\n",
        "2D Tensor\n",
        "3D Tensor - (행개수, 열개수, 차원수)\n",
        "가장 안쪽 대괄호 안의 값 개수 == 열개수\n",
        "다음 괄호 안의 대괄의 개수 == 행개수\n",
        "그 다음 괄호 안의 대괄호 개수 == 폭개수\n"
      ],
      "metadata": {
        "id": "UQrkjsjJZdv6"
      }
    },
    {
      "cell_type": "code",
      "source": [
        "#T3\n",
        "t1 = tf.constant([1,2,3])\n",
        "print(t1)\n",
        "print(tf.rank(t1))\n",
        "print(tf.rank(tf.rank(t1)))\n",
        "\n",
        "#T2\n",
        "t2 = tf.constant([[1,2],[1,2],[1,2]])\n",
        "print(t2)\n",
        "\n",
        "#T3\n",
        "t3 = tf.constant([[[1,1,1],[2,2,2]]])\n",
        "                 #[[3,3,3],[4,4,4]],\n",
        "                 #[[5,5,5],[6,6,6]]\n",
        "print(t3)\n",
        "\n",
        "#T4\n"
      ],
      "metadata": {
        "colab": {
          "base_uri": "https://localhost:8080/"
        },
        "id": "wmJyI-AZa_k5",
        "outputId": "52ca4f10-53cd-437f-9187-391430bcafec"
      },
      "execution_count": 19,
      "outputs": [
        {
          "output_type": "stream",
          "name": "stdout",
          "text": [
            "tf.Tensor([1 2 3], shape=(3,), dtype=int32)\n",
            "tf.Tensor(1, shape=(), dtype=int32)\n",
            "tf.Tensor(0, shape=(), dtype=int32)\n",
            "tf.Tensor(\n",
            "[[1 2]\n",
            " [1 2]\n",
            " [1 2]], shape=(3, 2), dtype=int32)\n",
            "tf.Tensor(\n",
            "[[[1 1 1]\n",
            "  [2 2 2]]], shape=(1, 2, 3), dtype=int32)\n"
          ]
        }
      ]
    },
    {
      "cell_type": "markdown",
      "source": [],
      "metadata": {
        "id": "c12KMKaobAWR"
      }
    },
    {
      "cell_type": "code",
      "source": [],
      "metadata": {
        "id": "agCHquBTbAhZ"
      },
      "execution_count": null,
      "outputs": []
    },
    {
      "cell_type": "markdown",
      "source": [],
      "metadata": {
        "id": "RdZiY00GbAoh"
      }
    },
    {
      "cell_type": "code",
      "source": [],
      "metadata": {
        "id": "CwmSKfnNbAvK"
      },
      "execution_count": null,
      "outputs": []
    },
    {
      "cell_type": "markdown",
      "source": [],
      "metadata": {
        "id": "wQtt822DbA1B"
      }
    },
    {
      "cell_type": "code",
      "source": [],
      "metadata": {
        "id": "-N8sMfi-bA8x"
      },
      "execution_count": null,
      "outputs": []
    }
  ]
}